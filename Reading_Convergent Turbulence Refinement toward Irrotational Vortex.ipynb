{
 "cells": [
  {
   "cell_type": "markdown",
   "metadata": {},
   "source": [
    "# Reading_Convergent Turbulence Refinement toward Irrotational Vortex\n",
    "## Introduction \n",
    "Fluid simulation < computer graphics  \n",
    "* first introduced by Stam 1999  \n",
    "Two main methods to **increase** the resolution of turbulence fluid:\n",
    "    * up-res: up-sampling under coarse discretization, example based methods. (post processing in this paper).  \n",
    "    * vertex-based: Aims at creating and preserving turbulence through vortivity field, two mian catigories:\n",
    "        * vorticity confinement: recover existing vortexes and enhanced them by adding mew force.  \n",
    "        * Lagrangian vortex method: build on vorticity representation of Navier-Stokes equations. Naturally divergence-free and and inherently immune to numerical dissipation. They could be implemented by surface, filaments and particles.\n",
    "        \n",
    "This paper method: can be regarded as a vortex particle method.  \n",
    "Higher efficiency is desired in particle-based approach, particle size --> larger.  \n",
    "**Problem**： The inertia tensor being absent from equation could lead to severe numerical dissipation.  \n",
    "**Solving**： a turbulence refinned method to recover the linear velocity from missing angular velocity to enhance turbulence details.    "
   ]
  },
  {
   "cell_type": "markdown",
   "metadata": {},
   "source": [
    "## Approach\n",
    "For computing the curl of a field $A_i$ in (Smoothed-particle hydrodynamics)SPH, apply different curl formulation $$(\\triangledown\\times A_i)^{diff} = {1\\over \\rho_i}\\sum_j m_j （A_i-A_j）\\times \\triangledown_i W_{ij}$$  \n",
    "$\\rho_i$: density at the location of particle $i$.  \n",
    "$m$: mass of each particle.  \n",
    "$W$: smoothed kernel in SPH approach, we use spline kernel in experiments.  \n",
    "$\\omega$: angular velocity.\n",
    "$\\alpha$: extra relax factor, enable users to decide how rough the turbulence they desire, can be set between 0 to 1.  \n",
    "The angluar velocity for particle $i$ at $k_{th}$ time step:\n",
    "$$\\omega_i^{(k)} = \\omega_i^{(k-1)}-\\alpha(\\omega_i^{(k-1)}-{((\\triangledown\\times v_i)^{diff}\\over 2)})$$  \n",
    "The angular velocity used to refine linear velocity field:\n",
    "$$\\delta\\omega_i^{(k)} = \\omega_i^{(k)}-\\omega_i^{(k-1)} = \\alpha(\\omega_i^{(k-1)}-{((\\triangledown\\times v_i)^{diff}\\over 2)})$$"
   ]
  },
  {
   "cell_type": "markdown",
   "metadata": {},
   "source": [
    "Convert $\\delta \\omega_i^{(k)}$ into $\\delta v_{i\\rightarrow j}^{(k)}$ using irrotational refinement model. Take the space inside particle radius as rigid body rotation, and the other space inside support radius as irrotation al flow.  \n",
    "We can get $\\delta\\omega_i^{(k)}$ for each particle. We treat each particle as a rigid sphere, in this case we can obtain velocity for each point at the particle surface:\n",
    "$$\\delta v_{surface}^{(k)} = \\delta\\omega_i^{(k)}\\times r$$  \n",
    "By inversly refining the neighbor particles within the supporting radius, we can adjust the linear velocity for each particle:\n",
    "$$\\delta v_{i\\rightarrow j}^{(k)} = \\frac{\\parallel x_{ij}\\parallel}{\\parallel r\\parallel}\\delta v_{surface}^{(k)}$$"
   ]
  },
  {
   "cell_type": "markdown",
   "metadata": {},
   "source": [
    "## Result\n",
    "This method is more stable and added less energy."
   ]
  },
  {
   "cell_type": "code",
   "execution_count": null,
   "metadata": {},
   "outputs": [],
   "source": []
  }
 ],
 "metadata": {
  "kernelspec": {
   "display_name": "Python 3",
   "language": "python",
   "name": "python3"
  },
  "language_info": {
   "codemirror_mode": {
    "name": "ipython",
    "version": 3
   },
   "file_extension": ".py",
   "mimetype": "text/x-python",
   "name": "python",
   "nbconvert_exporter": "python",
   "pygments_lexer": "ipython3",
   "version": "3.7.6"
  }
 },
 "nbformat": 4,
 "nbformat_minor": 4
}
