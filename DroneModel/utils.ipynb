{
 "cells": [
  {
   "cell_type": "markdown",
   "metadata": {},
   "source": [
    "https://nbviewer.jupyter.org/github/plusk01/nonlinearquad/blob/master/utils.ipynb"
   ]
  },
  {
   "cell_type": "code",
   "execution_count": 2,
   "metadata": {},
   "outputs": [],
   "source": [
    "import numpy as np"
   ]
  },
  {
   "cell_type": "markdown",
   "metadata": {},
   "source": [
    "# Derivative Filter"
   ]
  },
  {
   "cell_type": "markdown",
   "metadata": {},
   "source": [
    "Low pass filter with cutoff frequency $\\omega_c$.\n",
    "\\begin{align}\n",
    "H_{LPF}(s) = \\frac{\\omega_c}{s+\\omega_c} = \\frac{1}{s/\\omega_c+1}\n",
    "\\end{align}"
   ]
  },
  {
   "cell_type": "markdown",
   "metadata": {},
   "source": [
    "High pass filter with cutoff frequency $\\omega_c$.\n",
    "\\begin{align}\n",
    "H_{HPF}(s) = \\frac{s}{s+\\omega_c} = \\frac{s/\\omega_c}{s/\\omega_c+1}\n",
    "\\end{align}\n",
    "$$\\tau = RC = \\frac{1}{2\\pi f_c} = \\frac{1}{\\omega_c}$$\n",
    "* For computer, it must be discretized, to map $G(s)$ to $z$-domain, via the bilinear transform\n",
    "\\begin{align}\n",
    "s \\rightarrow \\frac{2}{T}\\frac{1-z^{-1}}{1+z^{-1}}\n",
    "\\end{align}\n",
    "$z$ transform can be used to give a discrete-time implementation of the dirty derivate."
   ]
  },
  {
   "cell_type": "code",
   "execution_count": 3,
   "metadata": {},
   "outputs": [],
   "source": [
    "# dirty derivative\n",
    "class DirtyDerivative:\n",
    "    def __init__(self, order=1, tau=0.5):\n",
    "        self.tau = tau # higher increase the smoothing\n",
    "        self.order = order # we use this parameter to know how many measurments to ignore \n",
    "                           # so that the incoming data is smooth and stable\n",
    "        self.x_d1 = None\n",
    "        self.dxdt = None # current value of derivative\n",
    "        \n",
    "    def update(self, x, Ts):\n",
    "        if self.order > 0:\n",
    "            self.order -= 1\n",
    "            self.x_d1 = x\n",
    "            return np.zeros(x.shape)\n",
    "        \n",
    "        # calculate the digital derivative constants\n",
    "        a1 = (2*self.tau-Ts)/(2*self.tau+Ts)\n",
    "        a2 = 2/(2*self.tau+Ts)\n",
    "        \n",
    "        if self.dxdt is None:\n",
    "            self.dxdt = np.zeros(x.shape)\n",
    "            \n",
    "        # calculate dirivative\n",
    "        self.dxdt = a1*self.dxdt + a2*(x-self.x_d1)\n",
    "        \n",
    "        # store value for next time\n",
    "        self.x_d1 = x\n",
    "        \n",
    "        return self.dxdt"
   ]
  },
  {
   "cell_type": "markdown",
   "metadata": {},
   "source": [
    "$\\Uparrow$ dirty derivative provides a first order derivative of a signal.  \n",
    "a filtered derivative based on a band-limited low pass transfer function $$G(s) = \\frac{s}{\\tau * s +1}$$  \n",
    "Because a pure differentiator ($D(s) = s$) is not realizable."
   ]
  },
  {
   "cell_type": "markdown",
   "metadata": {},
   "source": [
    "# Rotation matrices\n",
    "**Right hand, passive, intrinsic 3-2-1 (Z-Y-X)**  \n",
    "A yaw ($\\psi$) rotation is first performed in $\\mathcal{F}_A$ arround the $\\mathbf{k}^A$ axis to get to $\\mathcal{F}_B$.  \n",
    "Then, a pitch($\\theta$) rotation is performed about the $\\mathbf{j}^B$ axis to get to $\\mathcal{F}_C$.  \n",
    "Lastly, a roll ($\\phi$) rotation is performed about the $\\mathbf{i}^c$ axis to get to $\\mathcal{F}_D$.  \n",
    "The rotations are composed as \n",
    "\\begin{align}\n",
    "x^D &= R_C^D(\\phi)R^C_B(\\theta)R^B_A(\\psi)x^A\\\\\n",
    "    &= R^D_A(\\phi,\\theta,\\psi)x^A\\\\\n",
    "    &= R^D_Ax^A\n",
    "\\end{align}"
   ]
  },
  {
   "cell_type": "code",
   "execution_count": 4,
   "metadata": {},
   "outputs": [],
   "source": [
    "# input angle in radians\n",
    "def rotx(ph): \n",
    "    return np.array([[1,0,0],[0,np.cos(ph),np.sin(ph)],[0,-np.sin(ph),np.cos(ph)]])\n",
    "def roty(th): \n",
    "    return np.array([[np.cos(th),0,-np.sin(th)],[0,1,0],[np.sin(th),0,np.cos(th)]])\n",
    "def rotz(ps): \n",
    "    return np.array([[np.cos(ps),np.sin(ps),0],[-np.sin(ps),np.cos(ps),0],[0,0,1]])\n",
    "def rot3(ph,th,ps): \n",
    "    return rotx(ph).dot(roty(th).dot(rotz(ps)))\n",
    "# input angle in degrees\n",
    "def rotxd(ph): \n",
    "    return rotx(np.radians(ph))\n",
    "def rotyd(th): \n",
    "    return roty(np.radians(th))\n",
    "def rotzd(ps): \n",
    "    return rotz(np.radians(ps))\n",
    "def rot3d(ph,th,ps): \n",
    "    return rot3(np.radians(ph),np.radians(th),np.radians(ps))"
   ]
  },
  {
   "cell_type": "markdown",
   "metadata": {},
   "source": [
    "# Simple PID Controller\n",
    "In order to implement a PID controller on a computer, we need to discretize our continuous expression for the integral and derivative terms of the PID controller."
   ]
  },
  {
   "cell_type": "code",
   "execution_count": 5,
   "metadata": {},
   "outputs": [],
   "source": [
    "class SimplePID:\n",
    "    def __init__(self, kp, ki, kd, min, max, tau=0.05):\n",
    "        self.kp = kp\n",
    "        self.ki = ki\n",
    "        self.kd = kd\n",
    "        self.min = min\n",
    "        self.max = max\n",
    "        self.tau = tau\n",
    "\n",
    "        self.derivative = 0.0\n",
    "        self.integral = 0.0\n",
    "\n",
    "        self.last_error = 0.0\n",
    "        \n",
    "    @staticmethod\n",
    "    def _clamp(v,limit):\n",
    "        return v if np.abs(v)<limit else limit*np.sign(v)\n",
    "    def run(self, error, dt, derivative=None, pclamp=None):\n",
    "        # P term\n",
    "        if self.kp:\n",
    "            # proportional error clamp , it specified\n",
    "            e = error if pclamp is None else self._clamp(clamp, pclamp)\n",
    "            p_term = self.kp*e\n",
    "        else:\n",
    "            p_term = 0.0\n",
    "            \n",
    "        # D term\n",
    "        if self.kd:\n",
    "            if derivative:\n",
    "                self.derivative = derivative\n",
    "            elif dt > 0.0001:\n",
    "                self.derivative = (2.0*self.tau - dt)/(2.0*self.tau + dt)*self.derivative + 2.0/(2.0*self.tau + dt)*(error - self.last_error)\n",
    "            else:\n",
    "                self.derivative = 0.0\n",
    "            d_term = self.kd * self.derivative\n",
    "        else:\n",
    "            d_term = 0.0\n",
    "            \n",
    "        # I term\n",
    "        if self.ki:\n",
    "            self.integral += (dt/2.0) * (error + self.last_error)\n",
    "            i_term = self.ki * self.integral\n",
    "        else:\n",
    "            i_term = 0.0\n",
    "\n",
    "        # combine\n",
    "        u = p_term + d_term + i_term\n",
    "        \n",
    "        # saturate\n",
    "        if u < self.min:\n",
    "            u_sat = self.min\n",
    "        elif u > self.max:\n",
    "            u_sat = self.max\n",
    "        else:\n",
    "            u_sat = u\n",
    "            \n",
    "        # integrator anti-windup\n",
    "        if self.ki:\n",
    "            if abs(p_term + d_term) > abs(u_sat):\n",
    "                # PD is already saturating, so set integrator to 0 but don't let it run backwards\n",
    "                self.integral = 0\n",
    "            else:\n",
    "                # otherwise only let integral term at most take us just up to saturation\n",
    "                self.integral = (u_sat - p_term - d_term) / self.ki\n",
    "\n",
    "        # book keeping\n",
    "        self.last_error = error\n",
    "\n",
    "        return u_sat"
   ]
  },
  {
   "cell_type": "markdown",
   "metadata": {},
   "source": [
    "\\begin{align}\n",
    "&u = P+I+D\\\\\n",
    "\\begin{cases}\n",
    "P &= kp\\cdot e\\\\\n",
    "D &= kd\\cdot(\\frac{2\\tau-dt}{2\\tau+dt}\\frac{de}{dt}+\\frac{2}{2\\tau+dt}(e-e_{last}))\\\\\n",
    "I &= ki\\cdot\\sum\\frac{dt}{2}(e+e_{last})\n",
    "\\end{cases}\n",
    "\\end{align}"
   ]
  },
  {
   "cell_type": "markdown",
   "metadata": {},
   "source": [
    "# Euler Method\n",
    "\\begin{align}\n",
    "&\\frac{df}{dt} =\n",
    "\\lim_{h\\rightarrow 0}\n",
    "\\frac{f(t+h)-f(t)}{h},\\ \\ g(t) \\doteq\\frac{df}{dt}(t)\n",
    "\\\\\n",
    "\\Rightarrow\n",
    "& f(t+h)=f(t)+g(t)h\n",
    "\\\\\n",
    "\\Rightarrow\n",
    "& f(K+1)=f(k)+g(k)T_s\n",
    "\\end{align}\n",
    "* First order, approximation of the differential euqation.\n",
    "# RK4\n",
    "\\begin{align}\n",
    "\\dot y &= f(t,y)\\\\\n",
    "y_{n+1} &= y_n + {h\\over6} (k_1+k_2+k_3+k_4)\\\\\n",
    "t_{n+1} &= t_n+h\\\\\n",
    "\\text{where}\\ \\ \\\n",
    "k_1 &= f(t_n, y_n)\\\\\n",
    "k_2 &= f(t_n+{h\\over2}, y_n+{h\\over2}k_1)\\\\\n",
    "k_3 &= f(t_n+{h\\over2}, y_n+{h\\over2}k_2)\\\\\n",
    "k_4 &= f(t_n+h, y_n+hk_3)\n",
    "\\end{align}"
   ]
  },
  {
   "cell_type": "code",
   "execution_count": 6,
   "metadata": {},
   "outputs": [],
   "source": [
    "def rk4(f, y, dt):\n",
    "    \"\"\"Runge-Kutta 4th Order\n",
    "    \n",
    "    Solves an autonomous (time-invariant) differential equation of the form dy/dt = f(y).\n",
    "    \"\"\"\n",
    "    k1 = f(y)\n",
    "    k2 = f(y + dt/2*k1)\n",
    "    k3 = f(y + dt/2*k2)\n",
    "    k4 = f(y + dt  *k3)\n",
    "    return y + (dt/6)*(k1 + 2*k2 + 2*k3 + k4)"
   ]
  },
  {
   "cell_type": "code",
   "execution_count": 8,
   "metadata": {},
   "outputs": [
    {
     "data": {
      "image/png": "[encoded data removed]",
      "text/plain": [
       "<Figure size 432x288 with 1 Axes>"
      ]
     },
     "metadata": {},
     "output_type": "display_data"
    }
   ],
   "source": [
    "%matplotlib inline\n",
    "import numpy as np\n",
    "import matplotlib.pyplot as plt\n",
    "\n",
    "Tf = 5\n",
    "Ts = 0.01\n",
    "N = int(Tf/Ts)\n",
    "\n",
    "# initital condition\n",
    "x = 0\n",
    "\n",
    "# simulation history\n",
    "x_hist = np.zeros((N,1))\n",
    "\n",
    "for i in range(N-1):\n",
    "    # dynamics\n",
    "    freq = 1 if i < N//2 else 2\n",
    "    v = np.cos(2*np.pi*freq*(Ts*i))\n",
    "    f = lambda x: v\n",
    "\n",
    "    # propagate dynamics by solving the differential equation\n",
    "    x = rk4(f, x, Ts)\n",
    "    \n",
    "    # add to history\n",
    "    x_hist[i+1] = x\n",
    "    \n",
    "plt.plot(np.arange(0, Tf, Ts), x_hist)\n",
    "plt.grid(); plt.xlabel('Time (s)'); plt.ylabel('Position (m)')\n",
    "plt.show()"
   ]
  },
  {
   "cell_type": "code",
   "execution_count": null,
   "metadata": {},
   "outputs": [],
   "source": []
  }
 ],
 "metadata": {
  "kernelspec": {
   "display_name": "Python 3",
   "language": "python",
   "name": "python3"
  },
  "language_info": {
   "codemirror_mode": {
    "name": "ipython",
    "version": 3
   },
   "file_extension": ".py",
   "mimetype": "text/x-python",
   "name": "python",
   "nbconvert_exporter": "python",
   "pygments_lexer": "ipython3",
   "version": "3.6.6"
  }
 },
 "nbformat": 4,
 "nbformat_minor": 2
}
